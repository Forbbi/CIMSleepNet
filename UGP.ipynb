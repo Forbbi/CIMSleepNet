{
  "nbformat": 4,
  "nbformat_minor": 0,
  "metadata": {
    "colab": {
      "provenance": [],
      "authorship_tag": "ABX9TyMkqTjBae7rqdQIawrxl0Ou",
      "include_colab_link": true
    },
    "kernelspec": {
      "name": "python3",
      "display_name": "Python 3"
    },
    "language_info": {
      "name": "python"
    }
  },
  "cells": [
    {
      "cell_type": "markdown",
      "metadata": {
        "id": "view-in-github",
        "colab_type": "text"
      },
      "source": [
        "<a href=\"https://colab.research.google.com/github/Forbbi/CIMSleepNet/blob/main/UGP.ipynb\" target=\"_parent\"><img src=\"https://colab.research.google.com/assets/colab-badge.svg\" alt=\"Open In Colab\"/></a>"
      ]
    },
    {
      "cell_type": "code",
      "execution_count": null,
      "metadata": {
        "colab": {
          "base_uri": "https://localhost:8080/"
        },
        "id": "nATCSeBU9gUe",
        "outputId": "b700144f-03e7-48d7-80d7-89d8c0dd74bb"
      },
      "outputs": [
        {
          "output_type": "stream",
          "name": "stdout",
          "text": [
            "Cloning into 'CIMSleepNet'...\n",
            "remote: Enumerating objects: 94, done.\u001b[K\n",
            "remote: Counting objects: 100% (94/94), done.\u001b[K\n",
            "remote: Compressing objects: 100% (89/89), done.\u001b[K\n",
            "remote: Total 94 (delta 25), reused 0 (delta 0), pack-reused 0 (from 0)\u001b[K\n",
            "Receiving objects: 100% (94/94), 395.95 KiB | 4.00 MiB/s, done.\n",
            "Resolving deltas: 100% (25/25), done.\n"
          ]
        }
      ],
      "source": [
        "!git clone https://github.com/Forbbi/CIMSleepNet.git"
      ]
    },
    {
      "cell_type": "code",
      "source": [
        "!python train_Nflod.py --np_data_dir /content/CIMSleepNet/CIMSleepNet/dataverse_files"
      ],
      "metadata": {
        "colab": {
          "base_uri": "https://localhost:8080/"
        },
        "id": "UGANyJiCHAzw",
        "outputId": "58f94083-7616-435e-c564-d02197e72627"
      },
      "execution_count": 34,
      "outputs": [
        {
          "output_type": "stream",
          "name": "stdout",
          "text": [
            "r_permute: [14  5  4 17  8  7 19 12  0 15 16  9 11 10  3  1  6 18  2 13]\n",
            "Size of files_pairs: 20\n",
            "CIMSleepNet(\n",
            "  (GELU): GELU(approximate='none')\n",
            "  (features): CNN_transformer_EEG_EOG(\n",
            "    (MAE): MultiAutoencoder(\n",
            "      (gelu): GELU(approximate='none')\n",
            "      (conv_11): Sequential(\n",
            "        (0): Conv1d(1, 32, kernel_size=(50,), stride=(6,), padding=(24,))\n",
            "        (1): BatchNorm1d(32, eps=1e-05, momentum=0.1, affine=True, track_running_stats=True)\n",
            "        (2): GELU(approximate='none')\n",
            "      )\n",
            "      (sepconv_12): Sequential(\n",
            "        (0): Conv1d(32, 64, kernel_size=(25,), stride=(1,), padding=(12,), groups=32)\n",
            "        (1): Conv1d(64, 64, kernel_size=(1,), stride=(1,))\n",
            "        (2): BatchNorm1d(64, eps=1e-05, momentum=0.1, affine=True, track_running_stats=True)\n",
            "        (3): GELU(approximate='none')\n",
            "      )\n",
            "      (maxpool_12): MaxPool1d(kernel_size=25, stride=5, padding=12, dilation=1, ceil_mode=False)\n",
            "      (dropout_12): Dropout(p=0.5, inplace=False)\n",
            "      (sepconv_13): Sequential(\n",
            "        (0): Conv1d(64, 128, kernel_size=(8,), stride=(1,), padding=(4,), groups=64)\n",
            "        (1): Conv1d(128, 128, kernel_size=(1,), stride=(1,))\n",
            "        (2): BatchNorm1d(128, eps=1e-05, momentum=0.1, affine=True, track_running_stats=True)\n",
            "        (3): GELU(approximate='none')\n",
            "      )\n",
            "      (maxpool_13): MaxPool1d(kernel_size=8, stride=5, padding=3, dilation=1, ceil_mode=False)\n",
            "      (dropout_13): Dropout(p=0.5, inplace=False)\n",
            "      (sepconv_14): Sequential(\n",
            "        (0): Conv1d(128, 128, kernel_size=(3,), stride=(1,), padding=(1,), groups=128)\n",
            "        (1): Conv1d(128, 128, kernel_size=(1,), stride=(1,))\n",
            "        (2): BatchNorm1d(128, eps=1e-05, momentum=0.1, affine=True, track_running_stats=True)\n",
            "        (3): GELU(approximate='none')\n",
            "      )\n",
            "      (maxpool_14): MaxPool1d(kernel_size=3, stride=4, padding=1, dilation=1, ceil_mode=False)\n",
            "      (sepconv_trans_15): Sequential(\n",
            "        (0): ConvTranspose1d(128, 128, kernel_size=(3,), stride=(4,), groups=128)\n",
            "        (1): ConvTranspose1d(128, 128, kernel_size=(1,), stride=(1,))\n",
            "        (2): BatchNorm1d(128, eps=1e-05, momentum=0.1, affine=True, track_running_stats=True)\n",
            "        (3): GELU(approximate='none')\n",
            "      )\n",
            "      (sepconv_trans_16): Sequential(\n",
            "        (0): ConvTranspose1d(128, 64, kernel_size=(8,), stride=(5,), groups=64)\n",
            "        (1): ConvTranspose1d(64, 64, kernel_size=(1,), stride=(1,))\n",
            "        (2): BatchNorm1d(64, eps=1e-05, momentum=0.1, affine=True, track_running_stats=True)\n",
            "        (3): GELU(approximate='none')\n",
            "      )\n",
            "      (sepconv_trans_17): Sequential(\n",
            "        (0): ConvTranspose1d(64, 32, kernel_size=(25,), stride=(5,), padding=(5,), groups=32)\n",
            "        (1): ConvTranspose1d(32, 32, kernel_size=(1,), stride=(1,))\n",
            "        (2): BatchNorm1d(32, eps=1e-05, momentum=0.1, affine=True, track_running_stats=True)\n",
            "        (3): GELU(approximate='none')\n",
            "      )\n",
            "      (trans_18): ConvTranspose1d(32, 1, kernel_size=(50,), stride=(6,), padding=(22,))\n",
            "      (sigmoid_18): Sigmoid()\n",
            "      (conv_21): Sequential(\n",
            "        (0): Conv1d(1, 32, kernel_size=(50,), stride=(6,), padding=(24,))\n",
            "        (1): BatchNorm1d(32, eps=1e-05, momentum=0.1, affine=True, track_running_stats=True)\n",
            "        (2): GELU(approximate='none')\n",
            "      )\n",
            "      (sepconv_22): Sequential(\n",
            "        (0): Conv1d(32, 64, kernel_size=(25,), stride=(1,), padding=(12,), groups=32)\n",
            "        (1): Conv1d(64, 64, kernel_size=(1,), stride=(1,))\n",
            "        (2): BatchNorm1d(64, eps=1e-05, momentum=0.1, affine=True, track_running_stats=True)\n",
            "        (3): GELU(approximate='none')\n",
            "      )\n",
            "      (maxpool_22): MaxPool1d(kernel_size=25, stride=5, padding=12, dilation=1, ceil_mode=False)\n",
            "      (dropout_22): Dropout(p=0.5, inplace=False)\n",
            "      (sepconv_23): Sequential(\n",
            "        (0): Conv1d(64, 128, kernel_size=(8,), stride=(1,), padding=(4,), groups=64)\n",
            "        (1): Conv1d(128, 128, kernel_size=(1,), stride=(1,))\n",
            "        (2): BatchNorm1d(128, eps=1e-05, momentum=0.1, affine=True, track_running_stats=True)\n",
            "        (3): GELU(approximate='none')\n",
            "      )\n",
            "      (maxpool_23): MaxPool1d(kernel_size=8, stride=5, padding=3, dilation=1, ceil_mode=False)\n",
            "      (dropout_23): Dropout(p=0.5, inplace=False)\n",
            "      (sepconv_24): Sequential(\n",
            "        (0): Conv1d(128, 128, kernel_size=(3,), stride=(1,), padding=(1,), groups=128)\n",
            "        (1): Conv1d(128, 128, kernel_size=(1,), stride=(1,))\n",
            "        (2): BatchNorm1d(128, eps=1e-05, momentum=0.1, affine=True, track_running_stats=True)\n",
            "        (3): GELU(approximate='none')\n",
            "      )\n",
            "      (maxpool_24): MaxPool1d(kernel_size=3, stride=4, padding=1, dilation=1, ceil_mode=False)\n",
            "      (sepconv_trans_25): Sequential(\n",
            "        (0): ConvTranspose1d(128, 128, kernel_size=(3,), stride=(4,), groups=128)\n",
            "        (1): ConvTranspose1d(128, 128, kernel_size=(1,), stride=(1,))\n",
            "        (2): BatchNorm1d(128, eps=1e-05, momentum=0.1, affine=True, track_running_stats=True)\n",
            "        (3): GELU(approximate='none')\n",
            "      )\n",
            "      (sepconv_trans_26): Sequential(\n",
            "        (0): ConvTranspose1d(128, 64, kernel_size=(8,), stride=(5,), groups=64)\n",
            "        (1): ConvTranspose1d(64, 64, kernel_size=(1,), stride=(1,))\n",
            "        (2): BatchNorm1d(64, eps=1e-05, momentum=0.1, affine=True, track_running_stats=True)\n",
            "        (3): GELU(approximate='none')\n",
            "      )\n",
            "      (sepconv_trans_27): Sequential(\n",
            "        (0): ConvTranspose1d(64, 32, kernel_size=(25,), stride=(5,), padding=(5,), groups=32)\n",
            "        (1): ConvTranspose1d(32, 32, kernel_size=(1,), stride=(1,))\n",
            "        (2): BatchNorm1d(32, eps=1e-05, momentum=0.1, affine=True, track_running_stats=True)\n",
            "        (3): GELU(approximate='none')\n",
            "      )\n",
            "      (trans_28): ConvTranspose1d(32, 1, kernel_size=(50,), stride=(6,), padding=(22,))\n",
            "      (sigmoid_28): Sigmoid()\n",
            "      (fc1): Linear(in_features=640, out_features=128, bias=True)\n",
            "      (fc_bn1): BatchNorm1d(128, eps=1e-05, momentum=0.1, affine=True, track_running_stats=True)\n",
            "      (fc11): Linear(in_features=128, out_features=128, bias=True)\n",
            "      (fc12): Linear(in_features=128, out_features=128, bias=True)\n",
            "      (fc2): Linear(in_features=128, out_features=640, bias=True)\n",
            "      (fc_bn2): BatchNorm1d(640, eps=1e-05, momentum=0.1, affine=True, track_running_stats=True)\n",
            "    )\n",
            "    (GELU): GELU(approximate='none')\n",
            "    (tce): TCE(\n",
            "      (layers): ModuleList(\n",
            "        (0): EncoderLayer(\n",
            "          (self_attn): MultiHeadedAttention(\n",
            "            (convs_out_q): ModuleList(\n",
            "              (0): CausalConv1d(25, 25, kernel_size=(2,), stride=(8,), padding=(1,))\n",
            "            )\n",
            "            (convs_out): ModuleList(\n",
            "              (0-1): 2 x CausalConv1d(25, 12, kernel_size=(2,), stride=(8,), padding=(1,))\n",
            "            )\n",
            "            (convs_out1): ModuleList(\n",
            "              (0-1): 2 x CausalConv1d(25, 12, kernel_size=(3,), stride=(1,), padding=(2,))\n",
            "            )\n",
            "            (convs_in): ModuleList(\n",
            "              (0-3): 4 x CausalConv1d(40, 20, kernel_size=(3,), stride=(1,), padding=(2,))\n",
            "            )\n",
            "            (convs): ModuleList(\n",
            "              (0): CausalConv1d(2, 1, kernel_size=(3,), stride=(1,), padding=(2,))\n",
            "            )\n",
            "            (dropout): Dropout(p=0.1, inplace=False)\n",
            "            (global_pool): AdaptiveAvgPool1d(output_size=640)\n",
            "            (CE_out): GRU(640, 320, num_layers=2, bidirectional=True)\n",
            "            (CE_in): GRU(128, 64, num_layers=2, bidirectional=True)\n",
            "            (gelu): GELU(approximate='none')\n",
            "            (dropout_1): Dropout(p=0.5, inplace=False)\n",
            "            (time_shift): ZeroPad2d((0, 0, 1, 0))\n",
            "          )\n",
            "          (feed_forward): PositionwiseFeedForward(\n",
            "            (w_1_in): Linear(in_features=640, out_features=2560, bias=True)\n",
            "            (w_2_in): Linear(in_features=2560, out_features=640, bias=True)\n",
            "            (dropout): Dropout(p=0.5, inplace=False)\n",
            "          )\n",
            "          (sublayer_output0): ModuleList(\n",
            "            (0): SublayerOutput0(\n",
            "              (norm): LayerNorm()\n",
            "              (dropout): Dropout(p=0.5, inplace=False)\n",
            "            )\n",
            "          )\n",
            "          (sublayer_output1): ModuleList(\n",
            "            (0): SublayerOutput1(\n",
            "              (norm): LayerNorm()\n",
            "              (dropout): Dropout(p=0.5, inplace=False)\n",
            "            )\n",
            "          )\n",
            "          (conv_in): CausalConv1d(40, 40, kernel_size=(7,), stride=(1,), padding=(6,))\n",
            "          (global_pool): AdaptiveAvgPool1d(output_size=128)\n",
            "        )\n",
            "      )\n",
            "      (norm): LayerNorm()\n",
            "    )\n",
            "    (features_EEG): Sequential(\n",
            "      (0): Conv1d(1, 64, kernel_size=(50,), stride=(6,), padding=(24,), bias=False)\n",
            "      (1): BatchNorm1d(64, eps=1e-05, momentum=0.1, affine=True, track_running_stats=True)\n",
            "      (2): GELU(approximate='none')\n",
            "      (3): Conv1d(64, 64, kernel_size=(25,), stride=(3,), padding=(12,), bias=False)\n",
            "      (4): BatchNorm1d(64, eps=1e-05, momentum=0.1, affine=True, track_running_stats=True)\n",
            "      (5): GELU(approximate='none')\n",
            "      (6): MaxPool1d(kernel_size=8, stride=2, padding=4, dilation=1, ceil_mode=False)\n",
            "      (7): Dropout(p=0.5, inplace=False)\n",
            "      (8): Conv1d(64, 128, kernel_size=(8,), stride=(1,), padding=(2,), bias=False)\n",
            "      (9): BatchNorm1d(128, eps=1e-05, momentum=0.1, affine=True, track_running_stats=True)\n",
            "      (10): GELU(approximate='none')\n",
            "      (11): Conv1d(128, 128, kernel_size=(8,), stride=(1,), padding=(2,), bias=False)\n",
            "      (12): BatchNorm1d(128, eps=1e-05, momentum=0.1, affine=True, track_running_stats=True)\n",
            "      (13): GELU(approximate='none')\n",
            "      (14): MaxPool1d(kernel_size=4, stride=4, padding=1, dilation=1, ceil_mode=False)\n",
            "    )\n",
            "    (features_EOG): Sequential(\n",
            "      (0): Conv1d(1, 64, kernel_size=(50,), stride=(6,), padding=(24,), bias=False)\n",
            "      (1): BatchNorm1d(64, eps=1e-05, momentum=0.1, affine=True, track_running_stats=True)\n",
            "      (2): GELU(approximate='none')\n",
            "      (3): Conv1d(64, 64, kernel_size=(25,), stride=(3,), padding=(12,), bias=False)\n",
            "      (4): BatchNorm1d(64, eps=1e-05, momentum=0.1, affine=True, track_running_stats=True)\n",
            "      (5): GELU(approximate='none')\n",
            "      (6): MaxPool1d(kernel_size=8, stride=2, padding=4, dilation=1, ceil_mode=False)\n",
            "      (7): Dropout(p=0.5, inplace=False)\n",
            "      (8): Conv1d(64, 128, kernel_size=(8,), stride=(1,), padding=(2,), bias=False)\n",
            "      (9): BatchNorm1d(128, eps=1e-05, momentum=0.1, affine=True, track_running_stats=True)\n",
            "      (10): GELU(approximate='none')\n",
            "      (11): Conv1d(128, 128, kernel_size=(8,), stride=(1,), padding=(2,), bias=False)\n",
            "      (12): BatchNorm1d(128, eps=1e-05, momentum=0.1, affine=True, track_running_stats=True)\n",
            "      (13): GELU(approximate='none')\n",
            "      (14): MaxPool1d(kernel_size=4, stride=4, padding=1, dilation=1, ceil_mode=False)\n",
            "    )\n",
            "    (dropout_1): Dropout(p=0.5, inplace=False)\n",
            "    (Projector_EEG): Sequential(\n",
            "      (0): Linear(in_features=3000, out_features=128, bias=True)\n",
            "      (1): ReLU(inplace=True)\n",
            "      (2): Linear(in_features=128, out_features=128, bias=True)\n",
            "    )\n",
            "    (Projector_EOG): Sequential(\n",
            "      (0): Linear(in_features=3000, out_features=128, bias=True)\n",
            "      (1): ReLU(inplace=True)\n",
            "      (2): Linear(in_features=128, out_features=128, bias=True)\n",
            "    )\n",
            "    (Projector_EEG_S): Sequential(\n",
            "      (0): Linear(in_features=3000, out_features=128, bias=True)\n",
            "      (1): ReLU(inplace=True)\n",
            "      (2): Linear(in_features=128, out_features=128, bias=True)\n",
            "      (3): Softmax(dim=1)\n",
            "    )\n",
            "    (Projector_EOG_S): Sequential(\n",
            "      (0): Linear(in_features=3000, out_features=128, bias=True)\n",
            "      (1): ReLU(inplace=True)\n",
            "      (2): Linear(in_features=128, out_features=128, bias=True)\n",
            "      (3): Softmax(dim=1)\n",
            "    )\n",
            "  )\n",
            "  (fc): Linear(in_features=640, out_features=320, bias=True)\n",
            "  (fc1): Linear(in_features=320, out_features=5, bias=True)\n",
            "  (RELU): ReLU(inplace=True)\n",
            ")\n",
            "Traceback (most recent call last):\n",
            "  File \"/content/CIMSleepNet/CIMSleepNet/train_Nflod.py\", line 107, in <module>\n",
            "    main(config, fold_id)\n",
            "  File \"/content/CIMSleepNet/CIMSleepNet/train_Nflod.py\", line 50, in main\n",
            "    data_loader, valid_data_loader, test_data_loader, data_count, train_data_count = data_generator_np_miss_edf(folds_data[fold_id][0],\n",
            "                                                                                     ^^^^^^^^^^^^^^^^^^^^^^^^^^^^^^^^^^^^^^^^^^^^^^^^^^\n",
            "  File \"/content/CIMSleepNet/CIMSleepNet/data_loader/data_loaders.py\", line 466, in data_generator_np_miss_edf\n",
            "    train_dataset = LoadDataset_from_numpy_edf(training_files)\n",
            "                    ^^^^^^^^^^^^^^^^^^^^^^^^^^^^^^^^^^^^^^^^^^\n",
            "  File \"/content/CIMSleepNet/CIMSleepNet/data_loader/data_loaders.py\", line 366, in __init__\n",
            "    X_train_EEG = np.load(np_dataset[0])[\"x_EEG\"]\n",
            "                  ~~~~~~~~~~~~~~~~~~~~~~^^^^^^^^^\n",
            "  File \"/usr/local/lib/python3.11/dist-packages/numpy/lib/npyio.py\", line 263, in __getitem__\n",
            "    raise KeyError(f\"{key} is not a file in the archive\")\n",
            "KeyError: 'x_EEG is not a file in the archive'\n"
          ]
        }
      ]
    },
    {
      "cell_type": "code",
      "source": [
        "from glob import glob\n",
        "import os\n",
        "\n",
        "np_data_path = \"/content/CIMSleepNet/CIMSleepNet/dataverse_files\"  # The directory containing SC4001E0.npz\n",
        "files = glob(os.path.join(np_data_path, \"*.npz\"))\n",
        "print(f\"Files found: {files}\")\n"
      ],
      "metadata": {
        "colab": {
          "base_uri": "https://localhost:8080/"
        },
        "id": "hcw8Gn2NHHi6",
        "outputId": "4f7143dc-8374-4a9c-ec5e-c2372d617ba2"
      },
      "execution_count": 28,
      "outputs": [
        {
          "output_type": "stream",
          "name": "stdout",
          "text": [
            "Files found: ['/content/CIMSleepNet/CIMSleepNet/dataverse_files/SC4191E0.npz', '/content/CIMSleepNet/CIMSleepNet/dataverse_files/SC4122E0.npz', '/content/CIMSleepNet/CIMSleepNet/dataverse_files/SC4041E0.npz', '/content/CIMSleepNet/CIMSleepNet/dataverse_files/SC4022E0.npz', '/content/CIMSleepNet/CIMSleepNet/dataverse_files/SC4081E0.npz', '/content/CIMSleepNet/CIMSleepNet/dataverse_files/SC4141E0.npz', '/content/CIMSleepNet/CIMSleepNet/dataverse_files/SC4112E0.npz', '/content/CIMSleepNet/CIMSleepNet/dataverse_files/SC4051E0.npz', '/content/CIMSleepNet/CIMSleepNet/dataverse_files/SC4121E0.npz', '/content/CIMSleepNet/CIMSleepNet/dataverse_files/SC4071E0.npz', '/content/CIMSleepNet/CIMSleepNet/dataverse_files/SC4131E0.npz', '/content/CIMSleepNet/CIMSleepNet/dataverse_files/SC4012E0.npz', '/content/CIMSleepNet/CIMSleepNet/dataverse_files/SC4062E0.npz', '/content/CIMSleepNet/CIMSleepNet/dataverse_files/SC4021E0.npz', '/content/CIMSleepNet/CIMSleepNet/dataverse_files/SC4162E0.npz', '/content/CIMSleepNet/CIMSleepNet/dataverse_files/SC4042E0.npz', '/content/CIMSleepNet/CIMSleepNet/dataverse_files/SC4192E0.npz', '/content/CIMSleepNet/CIMSleepNet/dataverse_files/SC4072E0.npz', '/content/CIMSleepNet/CIMSleepNet/dataverse_files/SC4031E0.npz', '/content/CIMSleepNet/CIMSleepNet/dataverse_files/SC4172E0.npz', '/content/CIMSleepNet/CIMSleepNet/dataverse_files/SC4052E0.npz', '/content/CIMSleepNet/CIMSleepNet/dataverse_files/SC4102E0.npz', '/content/CIMSleepNet/CIMSleepNet/dataverse_files/SC4161E0.npz', '/content/CIMSleepNet/CIMSleepNet/dataverse_files/SC4061E0.npz', '/content/CIMSleepNet/CIMSleepNet/dataverse_files/SC4032E0.npz', '/content/CIMSleepNet/CIMSleepNet/dataverse_files/SC4001E0.npz', '/content/CIMSleepNet/CIMSleepNet/dataverse_files/SC4181E0.npz', '/content/CIMSleepNet/CIMSleepNet/dataverse_files/SC4152E0.npz', '/content/CIMSleepNet/CIMSleepNet/dataverse_files/SC4002E0.npz', '/content/CIMSleepNet/CIMSleepNet/dataverse_files/SC4182E0.npz', '/content/CIMSleepNet/CIMSleepNet/dataverse_files/SC4101E0.npz', '/content/CIMSleepNet/CIMSleepNet/dataverse_files/SC4091E0.npz', '/content/CIMSleepNet/CIMSleepNet/dataverse_files/SC4142E0.npz', '/content/CIMSleepNet/CIMSleepNet/dataverse_files/SC4151E0.npz', '/content/CIMSleepNet/CIMSleepNet/dataverse_files/SC4011E0.npz', '/content/CIMSleepNet/CIMSleepNet/dataverse_files/SC4111E0.npz', '/content/CIMSleepNet/CIMSleepNet/dataverse_files/SC4171E0.npz', '/content/CIMSleepNet/CIMSleepNet/dataverse_files/SC4092E0.npz', '/content/CIMSleepNet/CIMSleepNet/dataverse_files/SC4082E0.npz']\n"
          ]
        }
      ]
    },
    {
      "cell_type": "code",
      "source": [
        "print(f\"r_permute: {r_permute}\")\n",
        "print(f\"Size of files_pairs: {len(files_pairs)}\")\n"
      ],
      "metadata": {
        "colab": {
          "base_uri": "https://localhost:8080/",
          "height": 162
        },
        "id": "Qzvu6q8jedlr",
        "outputId": "ce6a9a11-6777-4d71-c98b-f28906fe810f"
      },
      "execution_count": 30,
      "outputs": [
        {
          "output_type": "error",
          "ename": "NameError",
          "evalue": "name 'r_permute' is not defined",
          "traceback": [
            "\u001b[0;31m---------------------------------------------------------------------------\u001b[0m",
            "\u001b[0;31mNameError\u001b[0m                                 Traceback (most recent call last)",
            "\u001b[0;32m<ipython-input-30-5902eff38f30>\u001b[0m in \u001b[0;36m<cell line: 0>\u001b[0;34m()\u001b[0m\n\u001b[0;32m----> 1\u001b[0;31m \u001b[0mprint\u001b[0m\u001b[0;34m(\u001b[0m\u001b[0;34mf\"r_permute: {r_permute}\"\u001b[0m\u001b[0;34m)\u001b[0m\u001b[0;34m\u001b[0m\u001b[0;34m\u001b[0m\u001b[0m\n\u001b[0m\u001b[1;32m      2\u001b[0m \u001b[0mprint\u001b[0m\u001b[0;34m(\u001b[0m\u001b[0;34mf\"Size of files_pairs: {len(files_pairs)}\"\u001b[0m\u001b[0;34m)\u001b[0m\u001b[0;34m\u001b[0m\u001b[0;34m\u001b[0m\u001b[0m\n",
            "\u001b[0;31mNameError\u001b[0m: name 'r_permute' is not defined"
          ]
        }
      ]
    },
    {
      "cell_type": "code",
      "source": [
        "# Unzip the file\n",
        "!unzip \"/content/dataverse_files (1).zip\" -d /content/dataverse_files\n"
      ],
      "metadata": {
        "colab": {
          "base_uri": "https://localhost:8080/"
        },
        "id": "7HcC37gAHJRx",
        "outputId": "45a82d55-e9ad-4bce-8ef6-1f4557e96e07",
        "collapsed": true
      },
      "execution_count": 23,
      "outputs": [
        {
          "output_type": "stream",
          "name": "stdout",
          "text": [
            "Archive:  /content/dataverse_files (1).zip\n",
            "  inflating: /content/dataverse_files/SC4121E0.npz  \n",
            "  inflating: /content/dataverse_files/SC4142E0.npz  \n",
            "  inflating: /content/dataverse_files/SC4192E0.npz  \n",
            "  inflating: /content/dataverse_files/SC4052E0.npz  \n",
            "  inflating: /content/dataverse_files/SC4021E0.npz  \n",
            "  inflating: /content/dataverse_files/SC4181E0.npz  \n",
            "  inflating: /content/dataverse_files/SC4072E0.npz  \n",
            "  inflating: /content/dataverse_files/SC4151E0.npz  \n",
            "  inflating: /content/dataverse_files/SC4012E0.npz  \n",
            "  inflating: /content/dataverse_files/SC4111E0.npz  \n",
            "  inflating: /content/dataverse_files/SC4112E0.npz  \n",
            "  inflating: /content/dataverse_files/SC4152E0.npz  \n",
            "  inflating: /content/dataverse_files/SC4141E0.npz  \n",
            "  inflating: /content/dataverse_files/SC4081E0.npz  \n",
            "  inflating: /content/dataverse_files/SC4161E0.npz  \n",
            "  inflating: /content/dataverse_files/SC4101E0.npz  \n",
            "  inflating: /content/dataverse_files/SC4061E0.npz  \n",
            "  inflating: /content/dataverse_files/SC4091E0.npz  \n",
            "  inflating: /content/dataverse_files/SC4071E0.npz  \n",
            "  inflating: /content/dataverse_files/SC4102E0.npz  \n",
            "  inflating: /content/dataverse_files/SC4001E0.npz  \n",
            "  inflating: /content/dataverse_files/SC4022E0.npz  \n",
            "  inflating: /content/dataverse_files/SC4082E0.npz  \n",
            "  inflating: /content/dataverse_files/SC4191E0.npz  \n",
            "  inflating: /content/dataverse_files/SC4131E0.npz  \n",
            "  inflating: /content/dataverse_files/SC4171E0.npz  \n",
            "  inflating: /content/dataverse_files/SC4031E0.npz  \n",
            "  inflating: /content/dataverse_files/SC4172E0.npz  \n",
            "  inflating: /content/dataverse_files/SC4051E0.npz  \n",
            "  inflating: /content/dataverse_files/SC4162E0.npz  \n",
            "  inflating: /content/dataverse_files/SC4041E0.npz  \n",
            "  inflating: /content/dataverse_files/SC4092E0.npz  \n",
            "  inflating: /content/dataverse_files/SC4042E0.npz  \n",
            "  inflating: /content/dataverse_files/SC4002E0.npz  \n",
            "  inflating: /content/dataverse_files/SC4062E0.npz  \n",
            "  inflating: /content/dataverse_files/SC4122E0.npz  \n",
            "  inflating: /content/dataverse_files/SC4011E0.npz  \n",
            "  inflating: /content/dataverse_files/SC4032E0.npz  \n",
            "  inflating: /content/dataverse_files/SC4182E0.npz  \n",
            "  inflating: /content/dataverse_files/MANIFEST.TXT  \n"
          ]
        }
      ]
    },
    {
      "cell_type": "code",
      "source": [
        "# prompt: movw this /content/dataverse_files  to /content/CIMSleepNet/CIMSleepNet using command\n",
        "\n",
        "!mv /content/CIMSleepNet/CIMSleepNet/dataverse_files/sample_data /content\n",
        "\n"
      ],
      "metadata": {
        "id": "v4LOB9Y4HWa-"
      },
      "execution_count": 25,
      "outputs": []
    },
    {
      "cell_type": "code",
      "source": [],
      "metadata": {
        "id": "Zbaw8KXad5lu"
      },
      "execution_count": null,
      "outputs": []
    }
  ]
}